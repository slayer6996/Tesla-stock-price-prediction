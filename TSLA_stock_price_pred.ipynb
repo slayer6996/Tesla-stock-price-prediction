{
  "nbformat": 4,
  "nbformat_minor": 0,
  "metadata": {
    "colab": {
      "name": "ANN_course_pro.ipynb",
      "provenance": [],
      "collapsed_sections": [],
      "authorship_tag": "ABX9TyPOagOTkN/aNiEfoQgk6Ujw",
      "include_colab_link": true
    },
    "kernelspec": {
      "name": "python3",
      "display_name": "Python 3"
    },
    "language_info": {
      "name": "python"
    }
  },
  "cells": [
    {
      "cell_type": "markdown",
      "metadata": {
        "id": "view-in-github",
        "colab_type": "text"
      },
      "source": [
        "<a href=\"https://colab.research.google.com/github/slayer6996/Tesla-stock-price-prediction/blob/main/TSLA_stock_price_pred.ipynb\" target=\"_parent\"><img src=\"https://colab.research.google.com/assets/colab-badge.svg\" alt=\"Open In Colab\"/></a>"
      ]
    },
    {
      "cell_type": "code",
      "metadata": {
        "id": "yK5rTnH3X_5F"
      },
      "source": [
        "import pandas_datareader as pdr"
      ],
      "execution_count": 2,
      "outputs": []
    },
    {
      "cell_type": "code",
      "metadata": {
        "id": "KuceyiIZZryo"
      },
      "source": [
        "key=\"\"\n",
        "df=pdr.get_data_tiingo('TSLA',api_key=key)"
      ],
      "execution_count": 3,
      "outputs": []
    },
    {
      "cell_type": "code",
      "metadata": {
        "id": "IqpaQYUiaqO3"
      },
      "source": [
        "df.to_csv('tesla.csv')"
      ],
      "execution_count": 4,
      "outputs": []
    },
    {
      "cell_type": "code",
      "metadata": {
        "id": "SD6u6I-ea36-"
      },
      "source": [
        "import pandas as pd\n",
        "df=pd.read_csv('tesla.csv')"
      ],
      "execution_count": 5,
      "outputs": []
    },
    {
      "cell_type": "code",
      "metadata": {
        "colab": {
          "base_uri": "https://localhost:8080/",
          "height": 203
        },
        "id": "R16hoNbZbAfK",
        "outputId": "38a9ff0b-1329-4053-87d8-1dc9de99e2cd"
      },
      "source": [
        "df.head()"
      ],
      "execution_count": 6,
      "outputs": [
        {
          "output_type": "execute_result",
          "data": {
            "text/html": [
              "<div>\n",
              "<style scoped>\n",
              "    .dataframe tbody tr th:only-of-type {\n",
              "        vertical-align: middle;\n",
              "    }\n",
              "\n",
              "    .dataframe tbody tr th {\n",
              "        vertical-align: top;\n",
              "    }\n",
              "\n",
              "    .dataframe thead th {\n",
              "        text-align: right;\n",
              "    }\n",
              "</style>\n",
              "<table border=\"1\" class=\"dataframe\">\n",
              "  <thead>\n",
              "    <tr style=\"text-align: right;\">\n",
              "      <th></th>\n",
              "      <th>symbol</th>\n",
              "      <th>date</th>\n",
              "      <th>close</th>\n",
              "      <th>high</th>\n",
              "      <th>low</th>\n",
              "      <th>open</th>\n",
              "      <th>volume</th>\n",
              "      <th>adjClose</th>\n",
              "      <th>adjHigh</th>\n",
              "      <th>adjLow</th>\n",
              "      <th>adjOpen</th>\n",
              "      <th>adjVolume</th>\n",
              "      <th>divCash</th>\n",
              "      <th>splitFactor</th>\n",
              "    </tr>\n",
              "  </thead>\n",
              "  <tbody>\n",
              "    <tr>\n",
              "      <th>0</th>\n",
              "      <td>TSLA</td>\n",
              "      <td>2016-10-31 00:00:00+00:00</td>\n",
              "      <td>197.73</td>\n",
              "      <td>202.4900</td>\n",
              "      <td>195.8100</td>\n",
              "      <td>202.49</td>\n",
              "      <td>4692273</td>\n",
              "      <td>39.546</td>\n",
              "      <td>40.49800</td>\n",
              "      <td>39.16200</td>\n",
              "      <td>40.498</td>\n",
              "      <td>23461365</td>\n",
              "      <td>0.0</td>\n",
              "      <td>1.0</td>\n",
              "    </tr>\n",
              "    <tr>\n",
              "      <th>1</th>\n",
              "      <td>TSLA</td>\n",
              "      <td>2016-11-01 00:00:00+00:00</td>\n",
              "      <td>190.79</td>\n",
              "      <td>198.5000</td>\n",
              "      <td>188.1050</td>\n",
              "      <td>198.04</td>\n",
              "      <td>7060036</td>\n",
              "      <td>38.158</td>\n",
              "      <td>39.70000</td>\n",
              "      <td>37.62100</td>\n",
              "      <td>39.608</td>\n",
              "      <td>35300180</td>\n",
              "      <td>0.0</td>\n",
              "      <td>1.0</td>\n",
              "    </tr>\n",
              "    <tr>\n",
              "      <th>2</th>\n",
              "      <td>TSLA</td>\n",
              "      <td>2016-11-02 00:00:00+00:00</td>\n",
              "      <td>188.02</td>\n",
              "      <td>192.6951</td>\n",
              "      <td>187.5050</td>\n",
              "      <td>190.05</td>\n",
              "      <td>4253382</td>\n",
              "      <td>37.604</td>\n",
              "      <td>38.53902</td>\n",
              "      <td>37.50100</td>\n",
              "      <td>38.010</td>\n",
              "      <td>21266910</td>\n",
              "      <td>0.0</td>\n",
              "      <td>1.0</td>\n",
              "    </tr>\n",
              "    <tr>\n",
              "      <th>3</th>\n",
              "      <td>TSLA</td>\n",
              "      <td>2016-11-03 00:00:00+00:00</td>\n",
              "      <td>187.42</td>\n",
              "      <td>191.4700</td>\n",
              "      <td>187.0401</td>\n",
              "      <td>189.00</td>\n",
              "      <td>2653023</td>\n",
              "      <td>37.484</td>\n",
              "      <td>38.29400</td>\n",
              "      <td>37.40802</td>\n",
              "      <td>37.800</td>\n",
              "      <td>13265115</td>\n",
              "      <td>0.0</td>\n",
              "      <td>1.0</td>\n",
              "    </tr>\n",
              "    <tr>\n",
              "      <th>4</th>\n",
              "      <td>TSLA</td>\n",
              "      <td>2016-11-04 00:00:00+00:00</td>\n",
              "      <td>190.56</td>\n",
              "      <td>193.4600</td>\n",
              "      <td>185.9600</td>\n",
              "      <td>189.00</td>\n",
              "      <td>5146043</td>\n",
              "      <td>38.112</td>\n",
              "      <td>38.69200</td>\n",
              "      <td>37.19200</td>\n",
              "      <td>37.800</td>\n",
              "      <td>25730215</td>\n",
              "      <td>0.0</td>\n",
              "      <td>1.0</td>\n",
              "    </tr>\n",
              "  </tbody>\n",
              "</table>\n",
              "</div>"
            ],
            "text/plain": [
              "  symbol                       date   close  ...  adjVolume  divCash  splitFactor\n",
              "0   TSLA  2016-10-31 00:00:00+00:00  197.73  ...   23461365      0.0          1.0\n",
              "1   TSLA  2016-11-01 00:00:00+00:00  190.79  ...   35300180      0.0          1.0\n",
              "2   TSLA  2016-11-02 00:00:00+00:00  188.02  ...   21266910      0.0          1.0\n",
              "3   TSLA  2016-11-03 00:00:00+00:00  187.42  ...   13265115      0.0          1.0\n",
              "4   TSLA  2016-11-04 00:00:00+00:00  190.56  ...   25730215      0.0          1.0\n",
              "\n",
              "[5 rows x 14 columns]"
            ]
          },
          "metadata": {},
          "execution_count": 6
        }
      ]
    },
    {
      "cell_type": "code",
      "metadata": {
        "colab": {
          "base_uri": "https://localhost:8080/",
          "height": 203
        },
        "id": "EN0jfJ55bFW1",
        "outputId": "fffed626-d96f-4c49-f309-d3981c30e012"
      },
      "source": [
        "df.tail()"
      ],
      "execution_count": 7,
      "outputs": [
        {
          "output_type": "execute_result",
          "data": {
            "text/html": [
              "<div>\n",
              "<style scoped>\n",
              "    .dataframe tbody tr th:only-of-type {\n",
              "        vertical-align: middle;\n",
              "    }\n",
              "\n",
              "    .dataframe tbody tr th {\n",
              "        vertical-align: top;\n",
              "    }\n",
              "\n",
              "    .dataframe thead th {\n",
              "        text-align: right;\n",
              "    }\n",
              "</style>\n",
              "<table border=\"1\" class=\"dataframe\">\n",
              "  <thead>\n",
              "    <tr style=\"text-align: right;\">\n",
              "      <th></th>\n",
              "      <th>symbol</th>\n",
              "      <th>date</th>\n",
              "      <th>close</th>\n",
              "      <th>high</th>\n",
              "      <th>low</th>\n",
              "      <th>open</th>\n",
              "      <th>volume</th>\n",
              "      <th>adjClose</th>\n",
              "      <th>adjHigh</th>\n",
              "      <th>adjLow</th>\n",
              "      <th>adjOpen</th>\n",
              "      <th>adjVolume</th>\n",
              "      <th>divCash</th>\n",
              "      <th>splitFactor</th>\n",
              "    </tr>\n",
              "  </thead>\n",
              "  <tbody>\n",
              "    <tr>\n",
              "      <th>1253</th>\n",
              "      <td>TSLA</td>\n",
              "      <td>2021-10-22 00:00:00+00:00</td>\n",
              "      <td>909.68</td>\n",
              "      <td>910.00</td>\n",
              "      <td>890.96</td>\n",
              "      <td>895.500</td>\n",
              "      <td>22880835</td>\n",
              "      <td>909.68</td>\n",
              "      <td>910.00</td>\n",
              "      <td>890.96</td>\n",
              "      <td>895.500</td>\n",
              "      <td>22880835</td>\n",
              "      <td>0.0</td>\n",
              "      <td>1.0</td>\n",
              "    </tr>\n",
              "    <tr>\n",
              "      <th>1254</th>\n",
              "      <td>TSLA</td>\n",
              "      <td>2021-10-25 00:00:00+00:00</td>\n",
              "      <td>1024.86</td>\n",
              "      <td>1045.02</td>\n",
              "      <td>944.20</td>\n",
              "      <td>950.530</td>\n",
              "      <td>62852099</td>\n",
              "      <td>1024.86</td>\n",
              "      <td>1045.02</td>\n",
              "      <td>944.20</td>\n",
              "      <td>950.530</td>\n",
              "      <td>62852099</td>\n",
              "      <td>0.0</td>\n",
              "      <td>1.0</td>\n",
              "    </tr>\n",
              "    <tr>\n",
              "      <th>1255</th>\n",
              "      <td>TSLA</td>\n",
              "      <td>2021-10-26 00:00:00+00:00</td>\n",
              "      <td>1018.43</td>\n",
              "      <td>1094.94</td>\n",
              "      <td>1001.44</td>\n",
              "      <td>1024.690</td>\n",
              "      <td>62414968</td>\n",
              "      <td>1018.43</td>\n",
              "      <td>1094.94</td>\n",
              "      <td>1001.44</td>\n",
              "      <td>1024.690</td>\n",
              "      <td>62414968</td>\n",
              "      <td>0.0</td>\n",
              "      <td>1.0</td>\n",
              "    </tr>\n",
              "    <tr>\n",
              "      <th>1256</th>\n",
              "      <td>TSLA</td>\n",
              "      <td>2021-10-27 00:00:00+00:00</td>\n",
              "      <td>1037.86</td>\n",
              "      <td>1070.88</td>\n",
              "      <td>1030.78</td>\n",
              "      <td>1039.660</td>\n",
              "      <td>38526459</td>\n",
              "      <td>1037.86</td>\n",
              "      <td>1070.88</td>\n",
              "      <td>1030.78</td>\n",
              "      <td>1039.660</td>\n",
              "      <td>38526459</td>\n",
              "      <td>0.0</td>\n",
              "      <td>1.0</td>\n",
              "    </tr>\n",
              "    <tr>\n",
              "      <th>1257</th>\n",
              "      <td>TSLA</td>\n",
              "      <td>2021-10-28 00:00:00+00:00</td>\n",
              "      <td>1077.04</td>\n",
              "      <td>1081.00</td>\n",
              "      <td>1054.20</td>\n",
              "      <td>1068.305</td>\n",
              "      <td>27213173</td>\n",
              "      <td>1077.04</td>\n",
              "      <td>1081.00</td>\n",
              "      <td>1054.20</td>\n",
              "      <td>1068.305</td>\n",
              "      <td>27213173</td>\n",
              "      <td>0.0</td>\n",
              "      <td>1.0</td>\n",
              "    </tr>\n",
              "  </tbody>\n",
              "</table>\n",
              "</div>"
            ],
            "text/plain": [
              "     symbol                       date  ...  divCash  splitFactor\n",
              "1253   TSLA  2021-10-22 00:00:00+00:00  ...      0.0          1.0\n",
              "1254   TSLA  2021-10-25 00:00:00+00:00  ...      0.0          1.0\n",
              "1255   TSLA  2021-10-26 00:00:00+00:00  ...      0.0          1.0\n",
              "1256   TSLA  2021-10-27 00:00:00+00:00  ...      0.0          1.0\n",
              "1257   TSLA  2021-10-28 00:00:00+00:00  ...      0.0          1.0\n",
              "\n",
              "[5 rows x 14 columns]"
            ]
          },
          "metadata": {},
          "execution_count": 7
        }
      ]
    },
    {
      "cell_type": "code",
      "metadata": {
        "colab": {
          "base_uri": "https://localhost:8080/"
        },
        "id": "4aX27Tj9bOol",
        "outputId": "b56c43ed-5ede-498a-d658-2b90d05997cd"
      },
      "source": [
        "df1=df.reset_index()['high']\n",
        "df1"
      ],
      "execution_count": 8,
      "outputs": [
        {
          "output_type": "execute_result",
          "data": {
            "text/plain": [
              "0        202.4900\n",
              "1        198.5000\n",
              "2        192.6951\n",
              "3        191.4700\n",
              "4        193.4600\n",
              "          ...    \n",
              "1253     910.0000\n",
              "1254    1045.0200\n",
              "1255    1094.9400\n",
              "1256    1070.8800\n",
              "1257    1081.0000\n",
              "Name: high, Length: 1258, dtype: float64"
            ]
          },
          "metadata": {},
          "execution_count": 8
        }
      ]
    },
    {
      "cell_type": "code",
      "metadata": {
        "colab": {
          "base_uri": "https://localhost:8080/",
          "height": 282
        },
        "id": "5WlCvCXibYKb",
        "outputId": "29d60a7c-ce58-4463-884b-ddeadb8ce8cb"
      },
      "source": [
        "import matplotlib.pyplot as plt\n",
        "plt.plot(df1)"
      ],
      "execution_count": 9,
      "outputs": [
        {
          "output_type": "execute_result",
          "data": {
            "text/plain": [
              "[<matplotlib.lines.Line2D at 0x7f797e329dd0>]"
            ]
          },
          "metadata": {},
          "execution_count": 9
        },
        {
          "output_type": "display_data",
          "data": {
            "image/png": "[encoded data removed]",
            "text/plain": [
              "<Figure size 432x288 with 1 Axes>"
            ]
          },
          "metadata": {
            "needs_background": "light"
          }
        }
      ]
    },
    {
      "cell_type": "code",
      "metadata": {
        "colab": {
          "base_uri": "https://localhost:8080/"
        },
        "id": "CD2Z85SIcehT",
        "outputId": "53847895-2b2d-4700-9ce4-2b8ecc5be9be"
      },
      "source": [
        "### applying MinMax scaler as LSTM is sensitive to scale of data\n",
        "import numpy as np\n",
        "from sklearn.preprocessing import MinMaxScaler\n",
        "scaler=MinMaxScaler(feature_range=(0,1))\n",
        "df1=scaler.fit_transform(np.array(df1).reshape(-1,1))\n",
        "df1"
      ],
      "execution_count": 10,
      "outputs": [
        {
          "output_type": "execute_result",
          "data": {
            "text/plain": [
              "array([[0.00832334],\n",
              "       [0.0064534 ],\n",
              "       [0.00373289],\n",
              "       ...,\n",
              "       [0.42657562],\n",
              "       [0.41529975],\n",
              "       [0.42004255]])"
            ]
          },
          "metadata": {},
          "execution_count": 10
        }
      ]
    },
    {
      "cell_type": "code",
      "metadata": {
        "colab": {
          "base_uri": "https://localhost:8080/"
        },
        "id": "aJD6LkcbeQmy",
        "outputId": "81c419a1-716d-40bb-848d-bea830e2bee1"
      },
      "source": [
        "### splitting data for training and testing\n",
        "training_size=int(len(df1)*0.75)\n",
        "testing_size=len(df1)-training_size\n",
        "data_train,data_test=df1[:training_size,:],df1[training_size:len(df1),:1]\n",
        "training_size,testing_size"
      ],
      "execution_count": 11,
      "outputs": [
        {
          "output_type": "execute_result",
          "data": {
            "text/plain": [
              "(943, 315)"
            ]
          },
          "metadata": {},
          "execution_count": 11
        }
      ]
    },
    {
      "cell_type": "code",
      "metadata": {
        "id": "noAFP4FYf1P7"
      },
      "source": [
        "#conversion of array to matrix\n",
        "import numpy\n",
        "def create_ds(dataset,timeStep=1):\n",
        "  x_data,y_data=[],[]\n",
        "  for i in range(len(dataset)-timeStep-1):\n",
        "    a=dataset[i:(i+timeStep),0]\n",
        "    x_data.append(a)\n",
        "    y_data.append(dataset[i+timeStep,0])\n",
        "  return numpy.array(x_data),numpy.array(y_data)"
      ],
      "execution_count": 12,
      "outputs": []
    },
    {
      "cell_type": "code",
      "metadata": {
        "colab": {
          "base_uri": "https://localhost:8080/"
        },
        "id": "JmnyZUnZjhcM",
        "outputId": "4a19516e-1aac-45da-f106-1af9821eb5c0"
      },
      "source": [
        "timeStep=100\n",
        "x_train,y_train=create_ds(data_train,timeStep)\n",
        "x_test,y_test=create_ds(data_test,timeStep)\n",
        "x_train.shape , y_train.shape"
      ],
      "execution_count": 13,
      "outputs": [
        {
          "output_type": "execute_result",
          "data": {
            "text/plain": [
              "((842, 100), (842,))"
            ]
          },
          "metadata": {},
          "execution_count": 13
        }
      ]
    },
    {
      "cell_type": "code",
      "metadata": {
        "id": "bdKzoF19kD2r"
      },
      "source": [
        "### reshaping input as [samples,time steps,features] for LSTM\n",
        "x_train=x_train.reshape(x_train.shape[0],x_train.shape[1],1)\n",
        "x_test=x_test.reshape(x_test.shape[0],x_test.shape[1],1)"
      ],
      "execution_count": 14,
      "outputs": []
    },
    {
      "cell_type": "code",
      "metadata": {
        "colab": {
          "base_uri": "https://localhost:8080/"
        },
        "id": "jLclMUnulKGW",
        "outputId": "b92bd144-f41a-4530-a646-346757cfb40a"
      },
      "source": [
        "### stacked LSTM model\n",
        "from tensorflow.keras.models import Sequential\n",
        "from tensorflow.keras.layers import Dense\n",
        "from tensorflow.keras.layers import LSTM\n",
        "\n",
        "model=Sequential([\n",
        "                  LSTM(50,return_sequences=True, input_shape=(100,1)),\n",
        "                  LSTM(50,return_sequences=True),\n",
        "                  LSTM(50),\n",
        "                  Dense(1)\n",
        "])\n",
        "model.compile(\n",
        "    optimizer='adam',\n",
        "    loss='mean_squared_error'\n",
        ")\n",
        "model.summary()"
      ],
      "execution_count": 15,
      "outputs": [
        {
          "output_type": "stream",
          "name": "stdout",
          "text": [
            "Model: \"sequential\"\n",
            "_________________________________________________________________\n",
            "Layer (type)                 Output Shape              Param #   \n",
            "=================================================================\n",
            "lstm (LSTM)                  (None, 100, 50)           10400     \n",
            "_________________________________________________________________\n",
            "lstm_1 (LSTM)                (None, 100, 50)           20200     \n",
            "_________________________________________________________________\n",
            "lstm_2 (LSTM)                (None, 50)                20200     \n",
            "_________________________________________________________________\n",
            "dense (Dense)                (None, 1)                 51        \n",
            "=================================================================\n",
            "Total params: 50,851\n",
            "Trainable params: 50,851\n",
            "Non-trainable params: 0\n",
            "_________________________________________________________________\n"
          ]
        }
      ]
    },
    {
      "cell_type": "code",
      "metadata": {
        "colab": {
          "base_uri": "https://localhost:8080/"
        },
        "id": "qnpZEIW1m74Q",
        "outputId": "11724043-fc88-488c-eaee-532d403faec8"
      },
      "source": [
        "model.fit(x_train,y_train,validation_data=(x_test,y_test),batch_size=64,epochs=100)"
      ],
      "execution_count": 16,
      "outputs": [
        {
          "output_type": "stream",
          "name": "stdout",
          "text": [
            "Epoch 1/100\n",
            "14/14 [==============================] - 9s 289ms/step - loss: 0.0091 - val_loss: 0.0051\n",
            "Epoch 2/100\n",
            "14/14 [==============================] - 3s 187ms/step - loss: 0.0017 - val_loss: 9.9746e-04\n",
            "Epoch 3/100\n",
            "14/14 [==============================] - 3s 187ms/step - loss: 0.0010 - val_loss: 9.6435e-04\n",
            "Epoch 4/100\n",
            "14/14 [==============================] - 3s 194ms/step - loss: 9.5661e-04 - val_loss: 0.0012\n",
            "Epoch 5/100\n",
            "14/14 [==============================] - 3s 193ms/step - loss: 9.3105e-04 - val_loss: 8.1445e-04\n",
            "Epoch 6/100\n",
            "14/14 [==============================] - 3s 194ms/step - loss: 9.4812e-04 - val_loss: 8.7272e-04\n",
            "Epoch 7/100\n",
            "14/14 [==============================] - 3s 189ms/step - loss: 8.8300e-04 - val_loss: 0.0012\n",
            "Epoch 8/100\n",
            "14/14 [==============================] - 3s 193ms/step - loss: 0.0011 - val_loss: 0.0014\n",
            "Epoch 9/100\n",
            "14/14 [==============================] - 3s 197ms/step - loss: 0.0010 - val_loss: 7.5510e-04\n",
            "Epoch 10/100\n",
            "14/14 [==============================] - 3s 197ms/step - loss: 8.0118e-04 - val_loss: 6.7452e-04\n",
            "Epoch 11/100\n",
            "14/14 [==============================] - 3s 195ms/step - loss: 7.0297e-04 - val_loss: 6.8015e-04\n",
            "Epoch 12/100\n",
            "14/14 [==============================] - 3s 192ms/step - loss: 7.3131e-04 - val_loss: 5.7248e-04\n",
            "Epoch 13/100\n",
            "14/14 [==============================] - 3s 195ms/step - loss: 6.2264e-04 - val_loss: 0.0012\n",
            "Epoch 14/100\n",
            "14/14 [==============================] - 3s 200ms/step - loss: 6.4505e-04 - val_loss: 5.8988e-04\n",
            "Epoch 15/100\n",
            "14/14 [==============================] - 3s 193ms/step - loss: 6.0461e-04 - val_loss: 8.7393e-04\n",
            "Epoch 16/100\n",
            "14/14 [==============================] - 3s 196ms/step - loss: 6.1834e-04 - val_loss: 5.1053e-04\n",
            "Epoch 17/100\n",
            "14/14 [==============================] - 3s 196ms/step - loss: 5.2190e-04 - val_loss: 7.7077e-04\n",
            "Epoch 18/100\n",
            "14/14 [==============================] - 3s 194ms/step - loss: 4.7533e-04 - val_loss: 8.4780e-04\n",
            "Epoch 19/100\n",
            "14/14 [==============================] - 3s 194ms/step - loss: 4.7827e-04 - val_loss: 0.0012\n",
            "Epoch 20/100\n",
            "14/14 [==============================] - 3s 193ms/step - loss: 4.6927e-04 - val_loss: 7.8231e-04\n",
            "Epoch 21/100\n",
            "14/14 [==============================] - 3s 196ms/step - loss: 4.6357e-04 - val_loss: 4.9709e-04\n",
            "Epoch 22/100\n",
            "14/14 [==============================] - 3s 194ms/step - loss: 4.6079e-04 - val_loss: 5.7354e-04\n",
            "Epoch 23/100\n",
            "14/14 [==============================] - 3s 196ms/step - loss: 5.4245e-04 - val_loss: 4.5937e-04\n",
            "Epoch 24/100\n",
            "14/14 [==============================] - 3s 195ms/step - loss: 4.4393e-04 - val_loss: 0.0013\n",
            "Epoch 25/100\n",
            "14/14 [==============================] - 3s 196ms/step - loss: 4.5123e-04 - val_loss: 0.0020\n",
            "Epoch 26/100\n",
            "14/14 [==============================] - 3s 194ms/step - loss: 5.5615e-04 - val_loss: 9.7348e-04\n",
            "Epoch 27/100\n",
            "14/14 [==============================] - 3s 195ms/step - loss: 4.2153e-04 - val_loss: 6.2867e-04\n",
            "Epoch 28/100\n",
            "14/14 [==============================] - 3s 195ms/step - loss: 4.2882e-04 - val_loss: 5.6416e-04\n",
            "Epoch 29/100\n",
            "14/14 [==============================] - 3s 196ms/step - loss: 4.7035e-04 - val_loss: 9.3678e-04\n",
            "Epoch 30/100\n",
            "14/14 [==============================] - 3s 198ms/step - loss: 3.9462e-04 - val_loss: 5.5224e-04\n",
            "Epoch 31/100\n",
            "14/14 [==============================] - 3s 197ms/step - loss: 3.7168e-04 - val_loss: 0.0013\n",
            "Epoch 32/100\n",
            "14/14 [==============================] - 3s 196ms/step - loss: 3.9426e-04 - val_loss: 6.8210e-04\n",
            "Epoch 33/100\n",
            "14/14 [==============================] - 3s 195ms/step - loss: 3.5183e-04 - val_loss: 0.0013\n",
            "Epoch 34/100\n",
            "14/14 [==============================] - 3s 193ms/step - loss: 4.3807e-04 - val_loss: 0.0011\n",
            "Epoch 35/100\n",
            "14/14 [==============================] - 3s 193ms/step - loss: 4.5252e-04 - val_loss: 7.4454e-04\n",
            "Epoch 36/100\n",
            "14/14 [==============================] - 3s 190ms/step - loss: 3.5333e-04 - val_loss: 3.8990e-04\n",
            "Epoch 37/100\n",
            "14/14 [==============================] - 3s 188ms/step - loss: 3.8643e-04 - val_loss: 5.2955e-04\n",
            "Epoch 38/100\n",
            "14/14 [==============================] - 3s 197ms/step - loss: 3.5119e-04 - val_loss: 4.8733e-04\n",
            "Epoch 39/100\n",
            "14/14 [==============================] - 3s 197ms/step - loss: 3.6102e-04 - val_loss: 4.0094e-04\n",
            "Epoch 40/100\n",
            "14/14 [==============================] - 3s 197ms/step - loss: 3.3354e-04 - val_loss: 4.4896e-04\n",
            "Epoch 41/100\n",
            "14/14 [==============================] - 3s 194ms/step - loss: 3.4082e-04 - val_loss: 0.0024\n",
            "Epoch 42/100\n",
            "14/14 [==============================] - 3s 198ms/step - loss: 4.4948e-04 - val_loss: 3.3985e-04\n",
            "Epoch 43/100\n",
            "14/14 [==============================] - 3s 195ms/step - loss: 3.5886e-04 - val_loss: 3.5054e-04\n",
            "Epoch 44/100\n",
            "14/14 [==============================] - 3s 196ms/step - loss: 3.6043e-04 - val_loss: 5.3441e-04\n",
            "Epoch 45/100\n",
            "14/14 [==============================] - 3s 196ms/step - loss: 3.4962e-04 - val_loss: 4.1031e-04\n",
            "Epoch 46/100\n",
            "14/14 [==============================] - 3s 198ms/step - loss: 3.8023e-04 - val_loss: 6.6325e-04\n",
            "Epoch 47/100\n",
            "14/14 [==============================] - 3s 195ms/step - loss: 3.5632e-04 - val_loss: 7.8316e-04\n",
            "Epoch 48/100\n",
            "14/14 [==============================] - 3s 194ms/step - loss: 3.8498e-04 - val_loss: 8.1078e-04\n",
            "Epoch 49/100\n",
            "14/14 [==============================] - 3s 197ms/step - loss: 3.3754e-04 - val_loss: 3.2014e-04\n",
            "Epoch 50/100\n",
            "14/14 [==============================] - 3s 199ms/step - loss: 3.1255e-04 - val_loss: 3.1620e-04\n",
            "Epoch 51/100\n",
            "14/14 [==============================] - 3s 201ms/step - loss: 3.1744e-04 - val_loss: 7.2962e-04\n",
            "Epoch 52/100\n",
            "14/14 [==============================] - 3s 199ms/step - loss: 3.4512e-04 - val_loss: 3.3548e-04\n",
            "Epoch 53/100\n",
            "14/14 [==============================] - 3s 198ms/step - loss: 3.3445e-04 - val_loss: 4.0265e-04\n",
            "Epoch 54/100\n",
            "14/14 [==============================] - 3s 200ms/step - loss: 3.0174e-04 - val_loss: 3.7043e-04\n",
            "Epoch 55/100\n",
            "14/14 [==============================] - 3s 195ms/step - loss: 3.0929e-04 - val_loss: 3.8659e-04\n",
            "Epoch 56/100\n",
            "14/14 [==============================] - 3s 197ms/step - loss: 2.8804e-04 - val_loss: 6.3239e-04\n",
            "Epoch 57/100\n",
            "14/14 [==============================] - 3s 196ms/step - loss: 3.1691e-04 - val_loss: 3.1006e-04\n",
            "Epoch 58/100\n",
            "14/14 [==============================] - 3s 193ms/step - loss: 3.0357e-04 - val_loss: 3.2476e-04\n",
            "Epoch 59/100\n",
            "14/14 [==============================] - 3s 192ms/step - loss: 3.3441e-04 - val_loss: 4.2534e-04\n",
            "Epoch 60/100\n",
            "14/14 [==============================] - 3s 196ms/step - loss: 3.2461e-04 - val_loss: 5.2942e-04\n",
            "Epoch 61/100\n",
            "14/14 [==============================] - 3s 196ms/step - loss: 3.5014e-04 - val_loss: 9.1176e-04\n",
            "Epoch 62/100\n",
            "14/14 [==============================] - 3s 194ms/step - loss: 3.5848e-04 - val_loss: 4.1348e-04\n",
            "Epoch 63/100\n",
            "14/14 [==============================] - 3s 193ms/step - loss: 3.3235e-04 - val_loss: 4.9520e-04\n",
            "Epoch 64/100\n",
            "14/14 [==============================] - 3s 194ms/step - loss: 3.7315e-04 - val_loss: 4.6206e-04\n",
            "Epoch 65/100\n",
            "14/14 [==============================] - 3s 196ms/step - loss: 3.0786e-04 - val_loss: 2.9942e-04\n",
            "Epoch 66/100\n",
            "14/14 [==============================] - 3s 197ms/step - loss: 2.7051e-04 - val_loss: 3.6730e-04\n",
            "Epoch 67/100\n",
            "14/14 [==============================] - 3s 192ms/step - loss: 2.6548e-04 - val_loss: 4.8433e-04\n",
            "Epoch 68/100\n",
            "14/14 [==============================] - 3s 195ms/step - loss: 3.0171e-04 - val_loss: 3.5245e-04\n",
            "Epoch 69/100\n",
            "14/14 [==============================] - 3s 197ms/step - loss: 2.9889e-04 - val_loss: 5.3055e-04\n",
            "Epoch 70/100\n",
            "14/14 [==============================] - 3s 196ms/step - loss: 2.6444e-04 - val_loss: 7.2889e-04\n",
            "Epoch 71/100\n",
            "14/14 [==============================] - 3s 196ms/step - loss: 2.8928e-04 - val_loss: 5.6547e-04\n",
            "Epoch 72/100\n",
            "14/14 [==============================] - 3s 198ms/step - loss: 3.0308e-04 - val_loss: 5.8117e-04\n",
            "Epoch 73/100\n",
            "14/14 [==============================] - 3s 196ms/step - loss: 2.6008e-04 - val_loss: 9.3363e-04\n",
            "Epoch 74/100\n",
            "14/14 [==============================] - 3s 196ms/step - loss: 2.7736e-04 - val_loss: 4.9882e-04\n",
            "Epoch 75/100\n",
            "14/14 [==============================] - 3s 195ms/step - loss: 2.6033e-04 - val_loss: 3.2894e-04\n",
            "Epoch 76/100\n",
            "14/14 [==============================] - 3s 198ms/step - loss: 2.4726e-04 - val_loss: 6.8139e-04\n",
            "Epoch 77/100\n",
            "14/14 [==============================] - 3s 192ms/step - loss: 2.5603e-04 - val_loss: 4.8616e-04\n",
            "Epoch 78/100\n",
            "14/14 [==============================] - 3s 195ms/step - loss: 2.9957e-04 - val_loss: 3.2747e-04\n",
            "Epoch 79/100\n",
            "14/14 [==============================] - 3s 198ms/step - loss: 3.2192e-04 - val_loss: 3.5243e-04\n",
            "Epoch 80/100\n",
            "14/14 [==============================] - 3s 200ms/step - loss: 2.7300e-04 - val_loss: 2.4381e-04\n",
            "Epoch 81/100\n",
            "14/14 [==============================] - 3s 198ms/step - loss: 2.3339e-04 - val_loss: 3.9030e-04\n",
            "Epoch 82/100\n",
            "14/14 [==============================] - 3s 195ms/step - loss: 2.2554e-04 - val_loss: 2.4841e-04\n",
            "Epoch 83/100\n",
            "14/14 [==============================] - 3s 199ms/step - loss: 2.4347e-04 - val_loss: 2.1907e-04\n",
            "Epoch 84/100\n",
            "14/14 [==============================] - 3s 196ms/step - loss: 2.5865e-04 - val_loss: 3.3573e-04\n",
            "Epoch 85/100\n",
            "14/14 [==============================] - 3s 197ms/step - loss: 2.4849e-04 - val_loss: 5.0192e-04\n",
            "Epoch 86/100\n",
            "14/14 [==============================] - 3s 194ms/step - loss: 2.3743e-04 - val_loss: 2.4677e-04\n",
            "Epoch 87/100\n",
            "14/14 [==============================] - 3s 196ms/step - loss: 2.1619e-04 - val_loss: 5.6898e-04\n",
            "Epoch 88/100\n",
            "14/14 [==============================] - 3s 196ms/step - loss: 2.3461e-04 - val_loss: 3.2171e-04\n",
            "Epoch 89/100\n",
            "14/14 [==============================] - 3s 198ms/step - loss: 2.8063e-04 - val_loss: 2.3365e-04\n",
            "Epoch 90/100\n",
            "14/14 [==============================] - 3s 199ms/step - loss: 2.0484e-04 - val_loss: 4.1093e-04\n",
            "Epoch 91/100\n",
            "14/14 [==============================] - 3s 197ms/step - loss: 2.0817e-04 - val_loss: 2.1785e-04\n",
            "Epoch 92/100\n",
            "14/14 [==============================] - 3s 197ms/step - loss: 2.5524e-04 - val_loss: 1.9749e-04\n",
            "Epoch 93/100\n",
            "14/14 [==============================] - 3s 197ms/step - loss: 2.3763e-04 - val_loss: 8.4048e-04\n",
            "Epoch 94/100\n",
            "14/14 [==============================] - 3s 189ms/step - loss: 2.1223e-04 - val_loss: 4.8896e-04\n",
            "Epoch 95/100\n",
            "14/14 [==============================] - 3s 197ms/step - loss: 2.1535e-04 - val_loss: 4.2208e-04\n",
            "Epoch 96/100\n",
            "14/14 [==============================] - 3s 196ms/step - loss: 2.2424e-04 - val_loss: 2.5735e-04\n",
            "Epoch 97/100\n",
            "14/14 [==============================] - 3s 194ms/step - loss: 2.3817e-04 - val_loss: 2.3945e-04\n",
            "Epoch 98/100\n",
            "14/14 [==============================] - 3s 194ms/step - loss: 2.0842e-04 - val_loss: 6.3014e-04\n",
            "Epoch 99/100\n",
            "14/14 [==============================] - 3s 195ms/step - loss: 2.0806e-04 - val_loss: 2.2389e-04\n",
            "Epoch 100/100\n",
            "14/14 [==============================] - 3s 196ms/step - loss: 2.9488e-04 - val_loss: 1.8872e-04\n"
          ]
        },
        {
          "output_type": "execute_result",
          "data": {
            "text/plain": [
              "<keras.callbacks.History at 0x7f7923a92ed0>"
            ]
          },
          "metadata": {},
          "execution_count": 16
        }
      ]
    },
    {
      "cell_type": "code",
      "metadata": {
        "id": "9j-L7B6QplDF"
      },
      "source": [
        "import tensorflow as tf\n",
        "train_predict=model.predict(x_train)\n",
        "test_predict=model.predict(x_test)\n",
        "\n",
        "train_predict=scaler.inverse_transform(train_predict)\n",
        "test_predict=scaler.inverse_transform(test_predict)\n"
      ],
      "execution_count": 17,
      "outputs": []
    },
    {
      "cell_type": "code",
      "metadata": {
        "colab": {
          "base_uri": "https://localhost:8080/"
        },
        "id": "SgGqICHtrOyi",
        "outputId": "c0b43b01-00ca-4db3-8865-6fb1cb2d4478"
      },
      "source": [
        "### root mean squared error performance metrics\n",
        "import math\n",
        "from sklearn.metrics import mean_squared_error\n",
        "math.sqrt(mean_squared_error(y_train,train_predict))"
      ],
      "execution_count": 18,
      "outputs": [
        {
          "output_type": "execute_result",
          "data": {
            "text/plain": [
              "454.3215402746841"
            ]
          },
          "metadata": {},
          "execution_count": 18
        }
      ]
    },
    {
      "cell_type": "code",
      "metadata": {
        "colab": {
          "base_uri": "https://localhost:8080/"
        },
        "id": "woqk9kMSrXoU",
        "outputId": "7c52d2a5-707a-42ec-d462-ef883d152367"
      },
      "source": [
        "### test data root mean squared error\n",
        "math.sqrt(mean_squared_error(y_test,test_predict))"
      ],
      "execution_count": 19,
      "outputs": [
        {
          "output_type": "execute_result",
          "data": {
            "text/plain": [
              "730.4461233921998"
            ]
          },
          "metadata": {},
          "execution_count": 19
        }
      ]
    },
    {
      "cell_type": "code",
      "metadata": {
        "colab": {
          "base_uri": "https://localhost:8080/",
          "height": 265
        },
        "id": "gm-knbIZrsck",
        "outputId": "4f4041ac-d6c9-4da0-9433-c1ed68c5eb5a"
      },
      "source": [
        "#plot\n",
        "### shifting train predictions\n",
        "look_back=100\n",
        "train_predict_plot=numpy.empty_like(df1)\n",
        "train_predict_plot[:,:]=np.nan\n",
        "train_predict_plot[look_back:len(train_predict)+look_back,:]=train_predict\n",
        "\n",
        "### shifting test predictions\n",
        "test_predict_plot=numpy.empty_like(df1)\n",
        "test_predict_plot[:,:]=numpy.nan\n",
        "test_predict_plot[len(train_predict)+(look_back*2)+1:len(df1)-1,:]=test_predict\n",
        "\n",
        "plt.plot(scaler.inverse_transform(df1),'y')\n",
        "plt.plot(train_predict_plot,'r')\n",
        "plt.plot(test_predict_plot,'g')\n",
        "plt.show()"
      ],
      "execution_count": 21,
      "outputs": [
        {
          "output_type": "display_data",
          "data": {
            "image/png": "[encoded data removed]",
            "text/plain": [
              "<Figure size 432x288 with 1 Axes>"
            ]
          },
          "metadata": {
            "needs_background": "light"
          }
        }
      ]
    }
  ]
}